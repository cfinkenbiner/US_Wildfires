{
 "cells": [
  {
   "cell_type": "code",
   "execution_count": 1,
   "id": "vanilla-tours",
   "metadata": {},
   "outputs": [],
   "source": [
    "import numpy as np\n",
    "import pandas as pd\n",
    "from scipy import stats\n",
    "import matplotlib.pyplot as plt"
   ]
  },
  {
   "cell_type": "code",
   "execution_count": null,
   "id": "fifty-converter",
   "metadata": {},
   "outputs": [],
   "source": [
    "## Convert sqlite file to csv - only run once\n",
    "import sqlite3\n",
    "db_file = '/Users/catiefinkenbiner/Documents/JobApps/DataIncubator/FPA_FOD_20170508.sqlite'\n",
    "\n",
    "conn = sqlite3.connect(db_file, isolation_level=None,\n",
    "                        detect_types=sqlite3.PARSE_COLNAMES)\n",
    "df = pd.read_sql_query(\"select * from fires\", conn)\n",
    "df.to_csv('WildFires.csv', index=False)"
   ]
  },
  {
   "cell_type": "code",
   "execution_count": 2,
   "id": "funded-column",
   "metadata": {},
   "outputs": [
    {
     "name": "stderr",
     "output_type": "stream",
     "text": [
      "/Users/catiefinkenbiner/.conda/envs/conda3/lib/python3.7/site-packages/IPython/core/interactiveshell.py:3147: DtypeWarning: Columns (8,10,11,12,13,14,15,16,17,18,35,37) have mixed types.Specify dtype option on import or set low_memory=False.\n",
      "  interactivity=interactivity, compiler=compiler, result=result)\n"
     ]
    },
    {
     "data": {
      "text/html": [
       "<div>\n",
       "<style scoped>\n",
       "    .dataframe tbody tr th:only-of-type {\n",
       "        vertical-align: middle;\n",
       "    }\n",
       "\n",
       "    .dataframe tbody tr th {\n",
       "        vertical-align: top;\n",
       "    }\n",
       "\n",
       "    .dataframe thead th {\n",
       "        text-align: right;\n",
       "    }\n",
       "</style>\n",
       "<table border=\"1\" class=\"dataframe\">\n",
       "  <thead>\n",
       "    <tr style=\"text-align: right;\">\n",
       "      <th></th>\n",
       "      <th>OBJECTID</th>\n",
       "      <th>FOD_ID</th>\n",
       "      <th>FPA_ID</th>\n",
       "      <th>SOURCE_SYSTEM_TYPE</th>\n",
       "      <th>SOURCE_SYSTEM</th>\n",
       "      <th>NWCG_REPORTING_AGENCY</th>\n",
       "      <th>NWCG_REPORTING_UNIT_ID</th>\n",
       "      <th>NWCG_REPORTING_UNIT_NAME</th>\n",
       "      <th>SOURCE_REPORTING_UNIT</th>\n",
       "      <th>SOURCE_REPORTING_UNIT_NAME</th>\n",
       "      <th>...</th>\n",
       "      <th>FIRE_SIZE_CLASS</th>\n",
       "      <th>LATITUDE</th>\n",
       "      <th>LONGITUDE</th>\n",
       "      <th>OWNER_CODE</th>\n",
       "      <th>OWNER_DESCR</th>\n",
       "      <th>STATE</th>\n",
       "      <th>COUNTY</th>\n",
       "      <th>FIPS_CODE</th>\n",
       "      <th>FIPS_NAME</th>\n",
       "      <th>Shape</th>\n",
       "    </tr>\n",
       "  </thead>\n",
       "  <tbody>\n",
       "    <tr>\n",
       "      <th>0</th>\n",
       "      <td>1</td>\n",
       "      <td>1</td>\n",
       "      <td>FS-1418826</td>\n",
       "      <td>FED</td>\n",
       "      <td>FS-FIRESTAT</td>\n",
       "      <td>FS</td>\n",
       "      <td>USCAPNF</td>\n",
       "      <td>Plumas National Forest</td>\n",
       "      <td>511</td>\n",
       "      <td>Plumas National Forest</td>\n",
       "      <td>...</td>\n",
       "      <td>A</td>\n",
       "      <td>40.036944</td>\n",
       "      <td>-121.005833</td>\n",
       "      <td>5.0</td>\n",
       "      <td>USFS</td>\n",
       "      <td>CA</td>\n",
       "      <td>63</td>\n",
       "      <td>63.0</td>\n",
       "      <td>Plumas</td>\n",
       "      <td>b'\\x00\\x01\\xad\\x10\\x00\\x00\\xe8d\\xc2\\x92_@^\\xc0...</td>\n",
       "    </tr>\n",
       "    <tr>\n",
       "      <th>1</th>\n",
       "      <td>2</td>\n",
       "      <td>2</td>\n",
       "      <td>FS-1418827</td>\n",
       "      <td>FED</td>\n",
       "      <td>FS-FIRESTAT</td>\n",
       "      <td>FS</td>\n",
       "      <td>USCAENF</td>\n",
       "      <td>Eldorado National Forest</td>\n",
       "      <td>503</td>\n",
       "      <td>Eldorado National Forest</td>\n",
       "      <td>...</td>\n",
       "      <td>A</td>\n",
       "      <td>38.933056</td>\n",
       "      <td>-120.404444</td>\n",
       "      <td>5.0</td>\n",
       "      <td>USFS</td>\n",
       "      <td>CA</td>\n",
       "      <td>61</td>\n",
       "      <td>61.0</td>\n",
       "      <td>Placer</td>\n",
       "      <td>b'\\x00\\x01\\xad\\x10\\x00\\x00T\\xb6\\xeej\\xe2\\x19^\\...</td>\n",
       "    </tr>\n",
       "    <tr>\n",
       "      <th>2</th>\n",
       "      <td>3</td>\n",
       "      <td>3</td>\n",
       "      <td>FS-1418835</td>\n",
       "      <td>FED</td>\n",
       "      <td>FS-FIRESTAT</td>\n",
       "      <td>FS</td>\n",
       "      <td>USCAENF</td>\n",
       "      <td>Eldorado National Forest</td>\n",
       "      <td>503</td>\n",
       "      <td>Eldorado National Forest</td>\n",
       "      <td>...</td>\n",
       "      <td>A</td>\n",
       "      <td>38.984167</td>\n",
       "      <td>-120.735556</td>\n",
       "      <td>13.0</td>\n",
       "      <td>STATE OR PRIVATE</td>\n",
       "      <td>CA</td>\n",
       "      <td>17</td>\n",
       "      <td>17.0</td>\n",
       "      <td>El Dorado</td>\n",
       "      <td>b'\\x00\\x01\\xad\\x10\\x00\\x00\\xd0\\xa5\\xa0W\\x13/^\\...</td>\n",
       "    </tr>\n",
       "    <tr>\n",
       "      <th>3</th>\n",
       "      <td>4</td>\n",
       "      <td>4</td>\n",
       "      <td>FS-1418845</td>\n",
       "      <td>FED</td>\n",
       "      <td>FS-FIRESTAT</td>\n",
       "      <td>FS</td>\n",
       "      <td>USCAENF</td>\n",
       "      <td>Eldorado National Forest</td>\n",
       "      <td>503</td>\n",
       "      <td>Eldorado National Forest</td>\n",
       "      <td>...</td>\n",
       "      <td>A</td>\n",
       "      <td>38.559167</td>\n",
       "      <td>-119.913333</td>\n",
       "      <td>5.0</td>\n",
       "      <td>USFS</td>\n",
       "      <td>CA</td>\n",
       "      <td>3</td>\n",
       "      <td>3.0</td>\n",
       "      <td>Alpine</td>\n",
       "      <td>b'\\x00\\x01\\xad\\x10\\x00\\x00\\x94\\xac\\xa3\\rt\\xfa]...</td>\n",
       "    </tr>\n",
       "    <tr>\n",
       "      <th>4</th>\n",
       "      <td>5</td>\n",
       "      <td>5</td>\n",
       "      <td>FS-1418847</td>\n",
       "      <td>FED</td>\n",
       "      <td>FS-FIRESTAT</td>\n",
       "      <td>FS</td>\n",
       "      <td>USCAENF</td>\n",
       "      <td>Eldorado National Forest</td>\n",
       "      <td>503</td>\n",
       "      <td>Eldorado National Forest</td>\n",
       "      <td>...</td>\n",
       "      <td>A</td>\n",
       "      <td>38.559167</td>\n",
       "      <td>-119.933056</td>\n",
       "      <td>5.0</td>\n",
       "      <td>USFS</td>\n",
       "      <td>CA</td>\n",
       "      <td>3</td>\n",
       "      <td>3.0</td>\n",
       "      <td>Alpine</td>\n",
       "      <td>b'\\x00\\x01\\xad\\x10\\x00\\x00@\\xe3\\xaa.\\xb7\\xfb]\\...</td>\n",
       "    </tr>\n",
       "  </tbody>\n",
       "</table>\n",
       "<p>5 rows × 39 columns</p>\n",
       "</div>"
      ],
      "text/plain": [
       "   OBJECTID  FOD_ID      FPA_ID SOURCE_SYSTEM_TYPE SOURCE_SYSTEM  \\\n",
       "0         1       1  FS-1418826                FED   FS-FIRESTAT   \n",
       "1         2       2  FS-1418827                FED   FS-FIRESTAT   \n",
       "2         3       3  FS-1418835                FED   FS-FIRESTAT   \n",
       "3         4       4  FS-1418845                FED   FS-FIRESTAT   \n",
       "4         5       5  FS-1418847                FED   FS-FIRESTAT   \n",
       "\n",
       "  NWCG_REPORTING_AGENCY NWCG_REPORTING_UNIT_ID  NWCG_REPORTING_UNIT_NAME  \\\n",
       "0                    FS                USCAPNF    Plumas National Forest   \n",
       "1                    FS                USCAENF  Eldorado National Forest   \n",
       "2                    FS                USCAENF  Eldorado National Forest   \n",
       "3                    FS                USCAENF  Eldorado National Forest   \n",
       "4                    FS                USCAENF  Eldorado National Forest   \n",
       "\n",
       "  SOURCE_REPORTING_UNIT SOURCE_REPORTING_UNIT_NAME  ... FIRE_SIZE_CLASS  \\\n",
       "0                   511     Plumas National Forest  ...               A   \n",
       "1                   503   Eldorado National Forest  ...               A   \n",
       "2                   503   Eldorado National Forest  ...               A   \n",
       "3                   503   Eldorado National Forest  ...               A   \n",
       "4                   503   Eldorado National Forest  ...               A   \n",
       "\n",
       "    LATITUDE   LONGITUDE OWNER_CODE       OWNER_DESCR STATE COUNTY FIPS_CODE  \\\n",
       "0  40.036944 -121.005833        5.0              USFS    CA     63      63.0   \n",
       "1  38.933056 -120.404444        5.0              USFS    CA     61      61.0   \n",
       "2  38.984167 -120.735556       13.0  STATE OR PRIVATE    CA     17      17.0   \n",
       "3  38.559167 -119.913333        5.0              USFS    CA      3       3.0   \n",
       "4  38.559167 -119.933056        5.0              USFS    CA      3       3.0   \n",
       "\n",
       "   FIPS_NAME                                              Shape  \n",
       "0     Plumas  b'\\x00\\x01\\xad\\x10\\x00\\x00\\xe8d\\xc2\\x92_@^\\xc0...  \n",
       "1     Placer  b'\\x00\\x01\\xad\\x10\\x00\\x00T\\xb6\\xeej\\xe2\\x19^\\...  \n",
       "2  El Dorado  b'\\x00\\x01\\xad\\x10\\x00\\x00\\xd0\\xa5\\xa0W\\x13/^\\...  \n",
       "3     Alpine  b'\\x00\\x01\\xad\\x10\\x00\\x00\\x94\\xac\\xa3\\rt\\xfa]...  \n",
       "4     Alpine  b'\\x00\\x01\\xad\\x10\\x00\\x00@\\xe3\\xaa.\\xb7\\xfb]\\...  \n",
       "\n",
       "[5 rows x 39 columns]"
      ]
     },
     "execution_count": 2,
     "metadata": {},
     "output_type": "execute_result"
    }
   ],
   "source": [
    "## Read csv\n",
    "df = pd.read_csv('WildFires.csv', index_col=None)\n",
    "df.head()"
   ]
  },
  {
   "cell_type": "code",
   "execution_count": 3,
   "id": "boolean-interim",
   "metadata": {},
   "outputs": [
    {
     "data": {
      "image/png": "[encoded data removed]",
      "text/plain": [
       "<Figure size 432x288 with 1 Axes>"
      ]
     },
     "metadata": {
      "needs_background": "light"
     },
     "output_type": "display_data"
    }
   ],
   "source": [
    "## Calculate Number of Fires per Year\n",
    "years = np.arange(1992, 2016)\n",
    "num_fires = []\n",
    "for yr in years:\n",
    "    df_yr = df[df['FIRE_YEAR'] == yr]\n",
    "    num_fires.append(df_yr['OBJECTID'].nunique())\n",
    "num_fires = np.array(num_fires)\n",
    "\n",
    "slope, intercept, r_value, p_value, std_err = stats.linregress(years, num_fires)\n",
    "\n",
    "plt.figure()\n",
    "plt.plot(years, num_fires, 'r^-')\n",
    "plt.plot(years, years*slope+intercept, 'k-')\n",
    "\n",
    "plt.text(1992, 85000, r'$r^2$= %.3f' % r_value**2)\n",
    "plt.text(1992, 80000, r'p-value= %.3f' % p_value)\n",
    "plt.ylabel('Number of Reported Fires')\n",
    "plt.tight_layout()\n",
    "plt.savefig('Fig1_numfires.png',dpi=300)\n",
    "plt.show() ; plt.close()"
   ]
  },
  {
   "cell_type": "code",
   "execution_count": 13,
   "id": "framed-infection",
   "metadata": {},
   "outputs": [
    {
     "data": {
      "image/png": "[encoded data removed]",
      "text/plain": [
       "<Figure size 648x216 with 1 Axes>"
      ]
     },
     "metadata": {
      "needs_background": "light"
     },
     "output_type": "display_data"
    }
   ],
   "source": [
    "## Number of fires per state\n",
    "states = df['STATE'].unique()\n",
    "num_fires = []\n",
    "for s in states:\n",
    "    df_s = df[df['STATE'] == s]\n",
    "    num_fires.append(df_s['OBJECTID'].nunique())\n",
    "num_fires = np.array(num_fires)\n",
    "\n",
    "plt.figure(figsize=(9,3))\n",
    "plt.bar(states, num_fires, color='orange')\n",
    "\n",
    "plt.xticks(rotation = 90)\n",
    "plt.ylabel('Number of Reported Fires')\n",
    "plt.tight_layout()\n",
    "plt.savefig('Fig2_numfires_per_state.png',dpi=300)\n",
    "plt.show() ; plt.close()"
   ]
  },
  {
   "cell_type": "code",
   "execution_count": 12,
   "id": "hidden-ukraine",
   "metadata": {},
   "outputs": [
    {
     "name": "stdout",
     "output_type": "stream",
     "text": [
      "r2= 1.6542350709854977e-07 p-value= 0.5770226617899084\n"
     ]
    }
   ],
   "source": [
    "## Correlation between 'Latitude' and 'Fire Year'\n",
    "slope, intercept, r_value, p_value, std_err = stats.linregress(df['LATITUDE'], df['FIRE_YEAR'])\n",
    "print('r2=', r_value**2, 'p-value=', p_value)"
   ]
  },
  {
   "cell_type": "code",
   "execution_count": 25,
   "id": "excess-commander",
   "metadata": {},
   "outputs": [
    {
     "name": "stdout",
     "output_type": "stream",
     "text": [
      "r2= 5.150565686551689e-05 p-value= 0.4730076935998212\n"
     ]
    }
   ],
   "source": [
    "## NLDAS Soils Dataset\n",
    "import xarray as xr\n",
    "\n",
    "soil_tex_netcdf4 = xr.open_dataset('NLDAS_masks-veg-soil.nc4')\n",
    "\n",
    "# Start with OR\n",
    "df_OR = df[df['STATE'] == 'OR']\n",
    "\n",
    "soiltex = [] ; fire_yr = []\n",
    "for l in np.arange(10000):\n",
    "    dstex = soil_tex_netcdf4.sel(lon=df_OR['LONGITUDE'].iloc[l], lat=df_OR['LATITUDE'].iloc[l], method='nearest')\n",
    "    soiltex.append(dstex['NLDAS_soil'].values)\n",
    "    fire_yr.append(df_OR['FIRE_YEAR'].iloc[l])\n",
    "soiltex = (np.array(soiltex)).ravel()\n",
    "\n",
    "## Correlation between 'Latitude' and 'Soil Type'\n",
    "slope, intercept, r_value, p_value, std_err = stats.linregress(soiltex, df_OR['FIRE_YEAR'].iloc[:10000])\n",
    "print('r2=', r_value**2, 'p-value=', p_value)"
   ]
  },
  {
   "cell_type": "code",
   "execution_count": 38,
   "id": "declared-collaboration",
   "metadata": {},
   "outputs": [
    {
     "data": {
      "image/png": "[encoded data removed]",
      "text/plain": [
       "<Figure size 432x288 with 2 Axes>"
      ]
     },
     "metadata": {
      "needs_background": "light"
     },
     "output_type": "display_data"
    }
   ],
   "source": [
    "df_OR_soil = pd.DataFrame({'lat':df_OR['LATITUDE'].iloc[:10000], 'lon':df_OR['LONGITUDE'].iloc[:10000], \n",
    "                           'fire_year':df_OR['FIRE_YEAR'].iloc[:10000], 'fire_class':df_OR['FIRE_SIZE_CLASS'].iloc[:10000],\n",
    "                           'soil':soiltex})\n",
    "df_OR_soil.head()\n",
    "\n",
    "plt.figure()\n",
    "plt.subplot(1,2,1)\n",
    "plt.plot(df_OR_soil['soil'], df_OR_soil['fire_class'], 'co')\n",
    "plt.xlabel('Soil Type')\n",
    "plt.ylabel('Fire Class')\n",
    "\n",
    "plt.subplot(1,2,2)\n",
    "plt.plot(df_OR_soil['soil'], df_OR_soil['fire_year'], 'mo')\n",
    "plt.xlabel('Soil Type')\n",
    "plt.ylabel('Fire Year')\n",
    "\n",
    "plt.tight_layout()\n",
    "plt.savefig('Fig3_OR_soils.png',dpi=300)\n",
    "plt.show() ; plt.close()"
   ]
  },
  {
   "cell_type": "code",
   "execution_count": null,
   "id": "golden-method",
   "metadata": {},
   "outputs": [],
   "source": []
  },
  {
   "cell_type": "code",
   "execution_count": null,
   "id": "presidential-burns",
   "metadata": {},
   "outputs": [],
   "source": []
  }
 ],
 "metadata": {
  "kernelspec": {
   "display_name": "Python 3",
   "language": "python",
   "name": "python3"
  },
  "language_info": {
   "codemirror_mode": {
    "name": "ipython",
    "version": 3
   },
   "file_extension": ".py",
   "mimetype": "text/x-python",
   "name": "python",
   "nbconvert_exporter": "python",
   "pygments_lexer": "ipython3",
   "version": "3.7.7"
  }
 },
 "nbformat": 4,
 "nbformat_minor": 5
}
